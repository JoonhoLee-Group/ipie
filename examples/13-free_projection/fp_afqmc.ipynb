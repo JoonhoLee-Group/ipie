{
 "cells": [
  {
   "cell_type": "code",
   "execution_count": null,
   "metadata": {},
   "outputs": [],
   "source": [
    "%load_ext autoreload\n",
    "%autoreload 2"
   ]
  },
  {
   "cell_type": "code",
   "execution_count": null,
   "metadata": {},
   "outputs": [],
   "source": [
    "import numpy as np\n",
    "from pyscf import fci, gto, scf\n",
    "\n",
    "np.set_printoptions(precision=5, suppress=True)"
   ]
  },
  {
   "cell_type": "code",
   "execution_count": null,
   "metadata": {},
   "outputs": [],
   "source": [
    "r = 1.6\n",
    "nH = 10\n",
    "# geom = f\"H {-3*r/2} 0 0; H {-r/2} 0 0; H {r/2} 0 0; H {3*r/2} 0 0\"\n",
    "geom = \"\"\n",
    "for i in range(nH):\n",
    "    geom += \"H 0 0 %g\\n\" % (i * r)\n",
    "mol = gto.M(atom=geom, basis=\"sto-6g\", verbose=3, unit=\"bohr\")\n",
    "\n",
    "mf = scf.RHF(mol)\n",
    "mf.kernel()\n",
    "\n",
    "umf = scf.UHF(mol)\n",
    "umf.kernel()\n",
    "mo1 = umf.stability(external=True)[0]\n",
    "umf = umf.newton().run(mo1, umf.mo_occ)\n",
    "mo1 = umf.stability(external=True)[0]\n",
    "umf = umf.newton().run(mo1, umf.mo_occ)\n",
    "\n",
    "# fci\n",
    "cisolver = fci.FCI(mol, mf.mo_coeff)\n",
    "e, ci = cisolver.kernel()\n",
    "print(\"FCI energy: \", e)"
   ]
  },
  {
   "cell_type": "markdown",
   "metadata": {},
   "source": [
    "### Free projection AFQMC\n",
    "\n",
    "Evaluates the quantity\n",
    "\n",
    "$$ E(\\tau) = \\frac{\\langle \\Psi_l | H e^{-\\tau H} | \\Psi_r \\rangle}{\\langle \\Psi_l | e^{-\\tau H} | \\Psi_r \\rangle} $$\n",
    "\n",
    "where $|\\Psi_l\\rangle$ is a trial wave function and $|\\Psi_r\\rangle$ is an initial state. The propagator is sampled using Monte Carlo. $E(\\tau)$ converges to the ground state energy at long $\\tau$, but the energies get noisier at long $\\tau$ due to the sign problem.\n",
    "\n",
    "In the following, energy evaluations are performed after a block consisting of `num_steps` steps of duration `dt`. In one iteration, energy samples are collected at `num_blocks` different $\\tau$ values. Multiple walkers are used to batch operations together for computational efficiency. The total number of samples at a given $\\tau$ is given by `num_walkers` $\\times$ `num_iterations_fp`. The energy is then averaged over walkers and iterations.\n"
   ]
  },
  {
   "cell_type": "code",
   "execution_count": null,
   "metadata": {},
   "outputs": [],
   "source": [
    "from ipie.addons.free_projection.qmc.calc import build_fpafqmc_driver\n",
    "from ipie.config import MPI\n",
    "from ipie.utils.from_pyscf import gen_ipie_input_from_pyscf_chk\n",
    "\n",
    "comm = MPI.COMM_WORLD\n",
    "\n",
    "gen_ipie_input_from_pyscf_chk(umf.chkfile, verbose=0)\n",
    "qmc_options = {\n",
    "    \"num_iterations_fp\": 100,\n",
    "    \"num_blocks\": 4,\n",
    "    \"num_steps\": 30,\n",
    "    \"num_walkers\": 50,\n",
    "    \"dt\": 0.05,\n",
    "}\n",
    "afqmc = build_fpafqmc_driver(\n",
    "    comm,\n",
    "    nelec=mol.nelec,\n",
    "    seed=212503,\n",
    "    qmc_options=qmc_options,\n",
    ")\n",
    "afqmc.run()\n",
    "\n",
    "# analysis\n",
    "from ipie.addons.free_projection.analysis.extraction import extract_observable\n",
    "from ipie.addons.free_projection.analysis.jackknife import jackknife_ratios\n",
    "\n",
    "for i in range(afqmc.params.num_blocks):\n",
    "    print(\n",
    "        f\"\\nEnergy statistics at time {(i+1) * afqmc.params.num_steps_per_block * afqmc.params.timestep}:\"\n",
    "    )\n",
    "    qmc_data = extract_observable(afqmc.estimators[i].filename, \"energy\")\n",
    "    mean_energy, energy_err = jackknife_ratios(qmc_data[\"ENumer\"], qmc_data[\"EDenom\"])\n",
    "    print(f\"  Energy: {mean_energy:.8e} +- {energy_err:.8e}\")"
   ]
  },
  {
   "cell_type": "markdown",
   "metadata": {},
   "source": [
    "### Phaseless AFQMC"
   ]
  },
  {
   "cell_type": "code",
   "execution_count": null,
   "metadata": {},
   "outputs": [],
   "source": [
    "from ipie.qmc.calc import build_afqmc_driver\n",
    "from ipie.config import MPI\n",
    "from ipie.utils.from_pyscf import gen_ipie_input_from_pyscf_chk\n",
    "\n",
    "comm = MPI.COMM_WORLD\n",
    "\n",
    "gen_ipie_input_from_pyscf_chk(mf.chkfile, verbose=0)\n",
    "\n",
    "# fixing random seed for reproducibility\n",
    "afqmc = build_afqmc_driver(comm, nelec=mol.nelec, num_walkers_per_task=100, seed=41100801)\n",
    "if comm.rank == 0:\n",
    "    print(afqmc.params)  # Inspect the default qmc options\n",
    "\n",
    "# Let us override the number of blocks to keep it short\n",
    "afqmc.params.num_blocks = 400\n",
    "afqmc.run()\n",
    "\n",
    "if comm.rank == 0:\n",
    "    # We can extract the qmc data as as a pandas data frame like so\n",
    "    from ipie.analysis.extraction import extract_observable\n",
    "\n",
    "    qmc_data = extract_observable(afqmc.estimators.filename, \"energy\")\n",
    "    y = qmc_data[\"ETotal\"]\n",
    "    y = y[50:]  # discard first 50 blocks\n",
    "\n",
    "    from ipie.analysis.autocorr import reblock_by_autocorr\n",
    "\n",
    "    df = reblock_by_autocorr(y, verbose=1)\n",
    "    print(df.to_csv(index=False))\n",
    "    # assert np.isclose(df.at[0,'ETotal_ac'], -5.325611614468466)\n",
    "    # assert np.isclose(df.at[0,'ETotal_error_ac'], 0.00938082351500978)"
   ]
  }
 ],
 "metadata": {
  "kernelspec": {
   "display_name": "py39",
   "language": "python",
   "name": "python3"
  },
  "language_info": {
   "codemirror_mode": {
    "name": "ipython",
    "version": 3
   },
   "file_extension": ".py",
   "mimetype": "text/x-python",
   "name": "python",
   "nbconvert_exporter": "python",
   "pygments_lexer": "ipython3",
   "version": "3.11.5"
  },
  "orig_nbformat": 4
 },
 "nbformat": 4,
 "nbformat_minor": 2
}
